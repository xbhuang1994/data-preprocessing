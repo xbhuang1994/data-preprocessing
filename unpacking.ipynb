{
 "cells": [
  {
   "cell_type": "markdown",
   "metadata": {},
   "source": [
    "Load 7zip Files\n"
   ]
  },
  {
   "cell_type": "code",
   "execution_count": 1,
   "metadata": {},
   "outputs": [],
   "source": [
    "import os\n",
    "import py7zr\n",
    "import re\n",
    "\n",
    "def unpacking(file_path):\n",
    "    if file_path.endswith('7z'):\n",
    "        print(file_path)                \n",
    "        with py7zr.SevenZipFile(file_path, 'r') as archive:\n",
    "            allfiles = archive.getnames()\n",
    "            filter_pattern = re.compile(r'\\d*/[11-12]\\S*/逐笔')\n",
    "            selective_files = [f for f in allfiles if filter_pattern.match(f)]\n",
    "            # archive.extract(path = \"data\",targets=selective_files)\n",
    "            print(len(selective_files))"
   ]
  },
  {
   "cell_type": "code",
   "execution_count": 2,
   "metadata": {},
   "outputs": [
    {
     "name": "stdout",
     "output_type": "stream",
     "text": [
      "CPU内核数:28\n",
      "当前母进程: 14168\n",
      "等待所有子进程完成。\n"
     ]
    }
   ],
   "source": [
    "from multiprocessing import Pool,cpu_count\n",
    "import time\n",
    "def main():\n",
    "    print(\"CPU内核数:{}\".format(cpu_count()))\n",
    "    print('当前母进程: {}'.format(os.getpid()))\n",
    "    start = time.time()\n",
    "    p = Pool(20)\n",
    "    go = os.walk(\"D:\\\\BaiduNetdiskDownload\\\\股票数据\\\\07\")\n",
    "    for root, dirs, files in go:\n",
    "        for file_name in files:\n",
    "            file_path = os.path.join(root, file_name) \n",
    "            p.apply_async(unpacking, args=(file_path,))\n",
    "\n",
    "    print('等待所有子进程完成。')\n",
    "    p.close()\n",
    "    p.join()\n",
    "    end = time.time()\n",
    "    print(\"总共用时{}秒\".format((end - start)))\n",
    "if __name__ == '__main__':\n",
    "    main()\n"
   ]
  }
 ],
 "metadata": {
  "kernelspec": {
   "display_name": "Python 3.9.12 ('base')",
   "language": "python",
   "name": "python3"
  },
  "language_info": {
   "codemirror_mode": {
    "name": "ipython",
    "version": 3
   },
   "file_extension": ".py",
   "mimetype": "text/x-python",
   "name": "python",
   "nbconvert_exporter": "python",
   "pygments_lexer": "ipython3",
   "version": "3.9.12"
  },
  "orig_nbformat": 4,
  "vscode": {
   "interpreter": {
    "hash": "076d0d3b98dc5a215015c61d3e95140b1e75683a9010d4cbddd6f504e2b099a5"
   }
  }
 },
 "nbformat": 4,
 "nbformat_minor": 2
}
